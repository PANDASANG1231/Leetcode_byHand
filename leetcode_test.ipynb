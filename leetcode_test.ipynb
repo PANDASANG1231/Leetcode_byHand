{
 "cells": [
  {
   "cell_type": "markdown",
   "metadata": {},
   "source": [
    "## 1. Two sum (Easy)"
   ]
  },
  {
   "cell_type": "markdown",
   "metadata": {},
   "source": [
    "Given an array of integers nums and an integer target, return indices of the two numbers such that they add up to target.\n",
    "\n",
    "You may assume that each input would have exactly one solution, and you may not use the same element twice.\n",
    "\n",
    "You can return the answer in any order.\n",
    "\n",
    " \n",
    "\n",
    "Example 1:\n",
    "```\n",
    "Input: nums = [2,7,11,15], target = 9\n",
    "Output: [0,1]\n",
    "Output: Because nums[0] + nums[1] == 9, we return [0, 1].\n",
    "```\n",
    "\n",
    "Example 2:\n",
    "\n",
    "```\n",
    "Input: nums = [3,2,4], target = 6\n",
    "Output: [1,2]\n",
    "```\n",
    "\n",
    "Example 3:\n",
    "```\n",
    "Input: nums = [3,3], target = 6\n",
    "Output: [0,1]\n",
    "```\n",
    "\n",
    "\n",
    "Follow-up: Can you come up with an algorithm that is less than O(n2) time complexity?\n",
    "\n",
    "来源：力扣（LeetCode）\n",
    "链接：https://leetcode-cn.com/problems/two-sum\n",
    "著作权归领扣网络所有。商业转载请联系官方授权，非商业转载请注明出处。"
   ]
  },
  {
   "cell_type": "code",
   "execution_count": 47,
   "metadata": {},
   "outputs": [],
   "source": [
    "## O(n2)\n",
    "\n",
    "class Solution(object):\n",
    "    def twoSum(self, nums, target, start=0):\n",
    "        \"\"\"\n",
    "        :type nums: List[int]\n",
    "        :type target: int\n",
    "        :rtype: List[int]\n",
    "        \"\"\"\n",
    "                \n",
    "        if len(nums) == start + 1:\n",
    "            return None\n",
    "        \n",
    "        for end in range(start + 1, len(nums)):\n",
    "            if target == nums[end] + nums[start]:\n",
    "                return [start, end]\n",
    "            \n",
    "        start += 1\n",
    "\n",
    "        return self.twoSum(nums, target, start)"
   ]
  },
  {
   "cell_type": "code",
   "execution_count": 48,
   "metadata": {},
   "outputs": [],
   "source": [
    "## use hashmap to reduce O(n2) to O(n)\n",
    "\n",
    "class Solution(object):\n",
    "    def twoSum(self, nums, target, start=0):\n",
    "        \"\"\"\n",
    "        :type nums: List[int]\n",
    "        :type target: int\n",
    "        :rtype: List[int]\n",
    "        \"\"\"\n",
    "        hashmap = {}\n",
    "        for i, num in enumerate(nums):\n",
    "            if target - num in hashmap:\n",
    "                return [hashmap[target - num], i]\n",
    "            hashmap[num] = i\n",
    "            \n",
    "\n",
    "        return None"
   ]
  },
  {
   "cell_type": "code",
   "execution_count": 49,
   "metadata": {},
   "outputs": [
    {
     "data": {
      "text/plain": [
       "[1, 2]"
      ]
     },
     "execution_count": 49,
     "metadata": {},
     "output_type": "execute_result"
    }
   ],
   "source": [
    "a = Solution()\n",
    "start = 0\n",
    "nums, target = [3,2,4,5], 6\n",
    "a.twoSum(nums, target)"
   ]
  },
  {
   "cell_type": "markdown",
   "metadata": {},
   "source": [
    "## 2. Add Two Numbers (Median)"
   ]
  },
  {
   "cell_type": "markdown",
   "metadata": {},
   "source": [
    "You are given two non-empty linked lists representing two non-negative integers. The digits are stored in reverse order, and each of their nodes contains a single digit. Add the two numbers and return the sum as a linked list.\n",
    "\n",
    "You may assume the two numbers do not contain any leading zero, except the number 0 itself.\n",
    "\n",
    " \n",
    "\n",
    "Example 1:\n",
    "\n",
    "```\n",
    "Input: l1 = [2,4,3], l2 = [5,6,4]\n",
    "Output: [7,0,8]\n",
    "Explanation: 342 + 465 = 807.\n",
    "```\n",
    "Example 2:\n",
    "```\n",
    "Input: l1 = [0], l2 = [0]\n",
    "Output: [0]\n",
    "```\n",
    "Example 3:\n",
    "```\n",
    "Input: l1 = [9,9,9,9,9,9,9], l2 = [9,9,9,9]\n",
    "Output: [8,9,9,9,0,0,0,1]\n",
    "```\n",
    "\n",
    "来源：力扣（LeetCode）\n",
    "链接：https://leetcode-cn.com/problems/add-two-numbers\n",
    "著作权归领扣网络所有。商业转载请联系官方授权，非商业转载请注明出处。"
   ]
  },
  {
   "cell_type": "code",
   "execution_count": 52,
   "metadata": {},
   "outputs": [],
   "source": [
    "# Definition for singly-linked list.\n",
    "class ListNode:\n",
    "    def __init__(self, val=0, next=None):\n",
    "        self.val = val\n",
    "        self.next = next\n",
    "        \n",
    "class Solution:\n",
    "    \n",
    "    def addTwoNumbers(self, l1, l2):\n",
    "        \n",
    "        start_l1 = l1\n",
    "        start_l2 = l2\n",
    "\n",
    "        while l1.next is not None or l2.next is not None:\n",
    "\n",
    "            if l1.next is None:\n",
    "                l1.next = ListNode()\n",
    "            elif l2.next is None:\n",
    "                l2.next = ListNode()\n",
    "            \n",
    "            l1 = l1.next\n",
    "            l2 = l2.next\n",
    "                \n",
    "\n",
    "        result = ListNode()\n",
    "\n",
    "        current = result\n",
    "        change = 0\n",
    "        while True:\n",
    "            current.val = (change + start_l1.val + start_l2.val) % 10\n",
    "            change = (change + start_l1.val + start_l2.val) // 10\n",
    "\n",
    "            if start_l1.next is None:\n",
    "                if change == 1:\n",
    "                    current.next = ListNode(change)\n",
    "                else:\n",
    "                    current.next = None\n",
    "                break\n",
    "            else:\n",
    "                current.next = ListNode()\n",
    "\n",
    "            start_l1 = start_l1.next\n",
    "            start_l2 = start_l2.next\n",
    "            current = current.next\n",
    "\n",
    "        return result\n",
    "\n",
    "\n"
   ]
  },
  {
   "cell_type": "markdown",
   "metadata": {},
   "source": [
    "## 4.Sorted Median (Hard)"
   ]
  },
  {
   "cell_type": "markdown",
   "metadata": {},
   "source": [
    "Given two sorted arrays nums1 and nums2 of size m and n respectively, return the median of the two sorted arrays.\n",
    "\n",
    "The overall run time complexity should be O(log (m+n)).\n",
    "\n",
    " \n",
    "\n",
    "Example 1:\n",
    "```\n",
    "Input: nums1 = [1,3], nums2 = [2]\n",
    "Output: 2.00000\n",
    "Explanation: merged array = [1,2,3] and median is 2.\n",
    "```\n",
    "Example 2:\n",
    "```\n",
    "Input: nums1 = [1,2], nums2 = [3,4]\n",
    "Output: 2.50000\n",
    "Explanation: merged array = [1,2,3,4] and median is (2 + 3) / 2 = 2.5.\n",
    "```\n",
    "来源：力扣（LeetCode）\n",
    "链接：https://leetcode-cn.com/problems/median-of-two-sorted-arrays\n",
    "著作权归领扣网络所有。商业转载请联系官方授权，非商业转载请注明出处。"
   ]
  },
  {
   "cell_type": "markdown",
   "metadata": {},
   "source": [
    " - If we want to have O(log(m+n)) complexity, We should use biniary search on both two lists.\n",
    " - l1 = [l1_small, l1_big], l2 = [l2_small, l2_large]\n",
    " - l1_small < l2_large, let l1 = l1_big, l2 = l2_small"
   ]
  },
  {
   "cell_type": "code",
   "execution_count": 76,
   "metadata": {},
   "outputs": [],
   "source": [
    "class Solution(object):\n",
    "    def findMedianSortedArrays(self, nums1, nums2):\n",
    "        \"\"\"\n",
    "        :type nums1: List[int]\n",
    "        :type nums2: List[int]\n",
    "        :rtype: float\n",
    "        \"\"\"\n",
    "        \n",
    "        nums1_final, nums2_final = None, None\n",
    "        \n",
    "        start_1, end_1 = 0, len(nums1) - 1\n",
    "        start_2, end_2 = 0, len(nums2) - 1\n",
    "        \n",
    "        while True:\n",
    "            \n",
    "            print(start_1, end_1, start_2, end_2)\n",
    "\n",
    "            \n",
    "            if end_1 - start_1 <= 1:\n",
    "                nums1_final = nums1[start_1:end_1]\n",
    "            if end_2 - start_2 <= 1:\n",
    "                nums2_final = nums2[start_2:end_2]\n",
    "                \n",
    "            \n",
    "            if (start_1 + end_1) % 2 == 0:\n",
    "                median_1 = nums1[(start_1 + end_1) // 2]\n",
    "            else:\n",
    "                median_1 = (nums1[(start_1 + end_1) // 2] + nums1[(start_1 + end_1) // 2 + 1]) / 2\n",
    "                \n",
    "            if (start_2 + end_2) % 2 == 0:\n",
    "                median_2 = nums2[(start_2 + end_2) // 2]\n",
    "            else:\n",
    "                print((start_2 + end_2) // 2)\n",
    "                median_2 = (nums2[(start_2 + end_2) // 2] + nums2[(start_2 + end_2) // 2 + 1]) / 2\n",
    "\n",
    "              \n",
    "            if median_1 < median_2:\n",
    "                start_1 = (start_1 + end_1) // 2 + 1\n",
    "                end_2 = (start_2 + end_2) // 2\n",
    "            else:\n",
    "                end_1 = (start_1 + end_1) // 2\n",
    "                start_2 = (start_2 + end_2) // 2 + 1\n",
    "                \n",
    "        return nums1_final, nums2_final\n"
   ]
  },
  {
   "cell_type": "code",
   "execution_count": 77,
   "metadata": {},
   "outputs": [
    {
     "name": "stdout",
     "output_type": "stream",
     "text": [
      "0 1 0 0\n",
      "0 0 1 0\n",
      "0\n"
     ]
    },
    {
     "ename": "IndexError",
     "evalue": "list index out of range",
     "output_type": "error",
     "traceback": [
      "\u001b[0;31m---------------------------------------------------------------------------\u001b[0m",
      "\u001b[0;31mIndexError\u001b[0m                                Traceback (most recent call last)",
      "\u001b[0;32m/var/folders/0t/2l8b0vvj0pg0_299f5hf11g00000gp/T/ipykernel_38337/2416130714.py\u001b[0m in \u001b[0;36m<module>\u001b[0;34m\u001b[0m\n\u001b[1;32m      3\u001b[0m \u001b[0;34m\u001b[0m\u001b[0m\n\u001b[1;32m      4\u001b[0m \u001b[0ms\u001b[0m \u001b[0;34m=\u001b[0m \u001b[0mSolution\u001b[0m\u001b[0;34m(\u001b[0m\u001b[0;34m)\u001b[0m\u001b[0;34m\u001b[0m\u001b[0;34m\u001b[0m\u001b[0m\n\u001b[0;32m----> 5\u001b[0;31m \u001b[0ms\u001b[0m\u001b[0;34m.\u001b[0m\u001b[0mfindMedianSortedArrays\u001b[0m\u001b[0;34m(\u001b[0m\u001b[0mnums1\u001b[0m\u001b[0;34m,\u001b[0m \u001b[0mnums2\u001b[0m\u001b[0;34m)\u001b[0m\u001b[0;34m\u001b[0m\u001b[0;34m\u001b[0m\u001b[0m\n\u001b[0m",
      "\u001b[0;32m/var/folders/0t/2l8b0vvj0pg0_299f5hf11g00000gp/T/ipykernel_38337/2692667187.py\u001b[0m in \u001b[0;36mfindMedianSortedArrays\u001b[0;34m(self, nums1, nums2)\u001b[0m\n\u001b[1;32m     32\u001b[0m             \u001b[0;32melse\u001b[0m\u001b[0;34m:\u001b[0m\u001b[0;34m\u001b[0m\u001b[0;34m\u001b[0m\u001b[0m\n\u001b[1;32m     33\u001b[0m                 \u001b[0mprint\u001b[0m\u001b[0;34m(\u001b[0m\u001b[0;34m(\u001b[0m\u001b[0mstart_2\u001b[0m \u001b[0;34m+\u001b[0m \u001b[0mend_2\u001b[0m\u001b[0;34m)\u001b[0m \u001b[0;34m//\u001b[0m \u001b[0;36m2\u001b[0m\u001b[0;34m)\u001b[0m\u001b[0;34m\u001b[0m\u001b[0;34m\u001b[0m\u001b[0m\n\u001b[0;32m---> 34\u001b[0;31m                 \u001b[0mmedian_2\u001b[0m \u001b[0;34m=\u001b[0m \u001b[0;34m(\u001b[0m\u001b[0mnums2\u001b[0m\u001b[0;34m[\u001b[0m\u001b[0;34m(\u001b[0m\u001b[0mstart_2\u001b[0m \u001b[0;34m+\u001b[0m \u001b[0mend_2\u001b[0m\u001b[0;34m)\u001b[0m \u001b[0;34m//\u001b[0m \u001b[0;36m2\u001b[0m\u001b[0;34m]\u001b[0m \u001b[0;34m+\u001b[0m \u001b[0mnums2\u001b[0m\u001b[0;34m[\u001b[0m\u001b[0;34m(\u001b[0m\u001b[0mstart_2\u001b[0m \u001b[0;34m+\u001b[0m \u001b[0mend_2\u001b[0m\u001b[0;34m)\u001b[0m \u001b[0;34m//\u001b[0m \u001b[0;36m2\u001b[0m \u001b[0;34m+\u001b[0m \u001b[0;36m1\u001b[0m\u001b[0;34m]\u001b[0m\u001b[0;34m)\u001b[0m \u001b[0;34m/\u001b[0m \u001b[0;36m2\u001b[0m\u001b[0;34m\u001b[0m\u001b[0;34m\u001b[0m\u001b[0m\n\u001b[0m\u001b[1;32m     35\u001b[0m \u001b[0;34m\u001b[0m\u001b[0m\n\u001b[1;32m     36\u001b[0m \u001b[0;34m\u001b[0m\u001b[0m\n",
      "\u001b[0;31mIndexError\u001b[0m: list index out of range"
     ]
    }
   ],
   "source": [
    "nums1 = [1,3]\n",
    "nums2 = [2]\n",
    "\n",
    "s = Solution()\n",
    "s.findMedianSortedArrays(nums1, nums2)"
   ]
  },
  {
   "cell_type": "markdown",
   "metadata": {},
   "source": [
    "## 11.Container with most water"
   ]
  },
  {
   "cell_type": "markdown",
   "metadata": {},
   "source": [
    "Given n non-negative integers a1, a2, ..., an , where each represents a point at coordinate (i, ai). n vertical lines are drawn such that the two endpoints of the line i is at (i, ai) and (i, 0). Find two lines, which, together with the x-axis forms a container, such that the container contains the most water.\n",
    "\n",
    "Notice that you may not slant the container.\n",
    "\n",
    " \n",
    "\n",
    "Example 1:\n",
    "```\n",
    "Input: height = [1,8,6,2,5,4,8,3,7]\n",
    "Output: 49\n",
    "Explanation: The above vertical lines are represented by array [1,8,6,2,5,4,8,3,7]. In this case, the max area of water (blue section) the container can contain is 49.\n",
    "```\n",
    "Example 2:\n",
    "```\n",
    "Input: height = [1,1]\n",
    "Output: 1\n",
    "```\n",
    "Example 3:\n",
    "```\n",
    "Input: height = [4,3,2,1,4]\n",
    "Output: 16\n",
    "```\n",
    "Example 4:\n",
    "```\n",
    "Input: height = [1,2,1]\n",
    "Output: 2\n",
    "```\n",
    "来源：力扣（LeetCode）\n",
    "链接：https://leetcode-cn.com/problems/container-with-most-water\n",
    "著作权归领扣网络所有。商业转载请联系官方授权，非商业转载请注明出处。"
   ]
  },
  {
   "cell_type": "code",
   "execution_count": 81,
   "metadata": {},
   "outputs": [],
   "source": [
    "class Solution(object):\n",
    "    def maxArea(self, height):\n",
    "        \"\"\"\n",
    "        :type height: List[int]\n",
    "        :rtype: int\n",
    "        \"\"\"\n",
    "        \n",
    "        areas = []\n",
    "        start, end  = 0, len(height) - 1\n",
    "        while start < end:\n",
    "            high = min(height[start], height[end])\n",
    "            areas.append((end - start) * high)\n",
    "            if height[start] == high:\n",
    "                start += 1\n",
    "            else:\n",
    "                end -= 1\n",
    "                \n",
    "        return max(areas)"
   ]
  },
  {
   "cell_type": "code",
   "execution_count": 82,
   "metadata": {},
   "outputs": [
    {
     "data": {
      "text/plain": [
       "49"
      ]
     },
     "execution_count": 82,
     "metadata": {},
     "output_type": "execute_result"
    }
   ],
   "source": [
    "height = [1,8,6,2,5,4,8,3,7]\n",
    "\n",
    "s = Solution()\n",
    "s.maxArea(height)"
   ]
  },
  {
   "cell_type": "markdown",
   "metadata": {},
   "source": [
    "## 21.Merge two sorted lists"
   ]
  },
  {
   "cell_type": "markdown",
   "metadata": {},
   "source": [
    "You are given the heads of two sorted linked lists list1 and list2.\n",
    "\n",
    "Merge the two lists in a one sorted list. The list should be made by splicing together the nodes of the first two lists.\n",
    "\n",
    "Return the head of the merged linked list.\n",
    "\n",
    " \n",
    "\n",
    "Example 1:\n",
    "```\n",
    "Input: list1 = [1,2,4], list2 = [1,3,4]\n",
    "Output: [1,1,2,3,4,4]\n",
    "```\n",
    "Example 2:\n",
    "```\n",
    "Input: list1 = [], list2 = []\n",
    "Output: []\n",
    "```\n",
    "Example 3:\n",
    "```\n",
    "Input: list1 = [], list2 = [0]\n",
    "Output: [0]\n",
    "```\n",
    "来源：力扣（LeetCode）\n",
    "链接：https://leetcode-cn.com/problems/merge-two-sorted-lists\n",
    "著作权归领扣网络所有。商业转载请联系官方授权，非商业转载请注明出处。"
   ]
  },
  {
   "cell_type": "code",
   "execution_count": 83,
   "metadata": {},
   "outputs": [],
   "source": [
    "class ListNode(object):\n",
    "    def __init__(self, val=0, next=None):\n",
    "        self.val = val\n",
    "        self.next = next\n",
    "\n",
    "class Solution(object):\n",
    "    def mergeTwoLists(self, list1, list2):\n",
    "        \"\"\"\n",
    "        :type list1: Optional[ListNode]\n",
    "        :type list2: Optional[ListNode]\n",
    "        :rtype: Optional[ListNode]\n",
    "        \"\"\"\n",
    "        \n",
    "        prehead = ListNode(-1)\n",
    "        prev = prehead\n",
    "\n",
    "        while list1 and list2:\n",
    "                        \n",
    "            if list1.val < list2.val:\n",
    "                prev.next = list1\n",
    "                list1 = list1.next\n",
    "            elif list1.val >= list2.val:\n",
    "                prev.next = list2\n",
    "                list2 = list2.next       \n",
    "            \n",
    "            prev = prev.next   \n",
    "\n",
    "\n",
    "        prev.next = list1 if list1 is not None else list2\n",
    "\n",
    "        return prehead.next"
   ]
  },
  {
   "cell_type": "markdown",
   "metadata": {},
   "source": [
    "## 22. Generate Parentheses"
   ]
  },
  {
   "cell_type": "markdown",
   "metadata": {},
   "source": [
    "Given n pairs of parentheses, write a function to generate all combinations of well-formed parentheses.\n",
    "```\n",
    "Example 1:\n",
    "Input: n = 3\n",
    "Output: [\"((()))\",\"(()())\",\"(())()\",\"()(())\",\"()()()\"]\n",
    "```\n",
    "Example 2:\n",
    "```\n",
    "Input: n = 1\n",
    "Output: [\"()\"]\n",
    "```\n",
    "来源：力扣（LeetCode）\n",
    "链接：https://leetcode-cn.com/problems/generate-parentheses\n",
    "著作权归领扣网络所有。商业转载请联系官方授权，非商业转载请注明出处。"
   ]
  },
  {
   "cell_type": "code",
   "execution_count": null,
   "metadata": {},
   "outputs": [],
   "source": []
  },
  {
   "cell_type": "markdown",
   "metadata": {},
   "source": []
  },
  {
   "cell_type": "markdown",
   "metadata": {},
   "source": []
  }
 ],
 "metadata": {
  "interpreter": {
   "hash": "742871bb6e609255bc28a59b6a1471655ace576fc27277c003267a791c7c9788"
  },
  "kernelspec": {
   "display_name": "Python 3.9.7 64-bit ('522_Group6': conda)",
   "language": "python",
   "name": "python3"
  },
  "language_info": {
   "codemirror_mode": {
    "name": "ipython",
    "version": 3
   },
   "file_extension": ".py",
   "mimetype": "text/x-python",
   "name": "python",
   "nbconvert_exporter": "python",
   "pygments_lexer": "ipython3",
   "version": "3.9.7"
  },
  "orig_nbformat": 4
 },
 "nbformat": 4,
 "nbformat_minor": 2
}
