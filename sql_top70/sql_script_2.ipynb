{
 "cells": [
  {
   "cell_type": "markdown",
   "metadata": {},
   "source": [
    "### 1098. Unpopular Books(Median)\n",
    "\n"
   ]
  },
  {
   "cell_type": "markdown",
   "metadata": {},
   "source": [
    "Table: Books\n",
    "```\n",
    "+----------------+---------+\n",
    "| Column Name    | Type    |\n",
    "+----------------+---------+\n",
    "| book_id        | int     |\n",
    "| name           | varchar |\n",
    "| available_from | date    |\n",
    "+----------------+---------+\n",
    "```\n",
    "book_id is the primary key of this table.\n",
    " \n",
    "\n",
    "Table: Orders\n",
    "```\n",
    "+----------------+---------+\n",
    "| Column Name    | Type    |\n",
    "+----------------+---------+\n",
    "| order_id       | int     |\n",
    "| book_id        | int     |\n",
    "| quantity       | int     |\n",
    "| dispatch_date  | date    |\n",
    "+----------------+---------+\n",
    "```\n",
    "order_id is the primary key of this table.\n",
    "book_id is a foreign key to the Books table."
   ]
  },
  {
   "cell_type": "markdown",
   "metadata": {},
   "source": [
    "```\n",
    "    select \n",
    "    book_id, name  \n",
    "    from\n",
    "    (\n",
    "        select \n",
    "            b.book_id\n",
    "            , b.name\n",
    "            , case when datediff(b.available_from, '2019-06-23') < -30 then 1 else 0 end as is_valid\n",
    "            , sum(case when datediff(o.dispatch_date, '2019-06-23') >= -365 then quantity else 0 end) over(partition by book_id) sum_copyies_valid\n",
    "        from\n",
    "            Books b\n",
    "        left join\n",
    "            Orders o\n",
    "        on \n",
    "            b.book_id = o.book_id\n",
    "    ) tmp\n",
    "    where \n",
    "    tmp.is_valid = 1 and tmp.sum_copyies_valid < 10\n",
    "    group by\n",
    "    book_id, name  \n",
    "    order by \n",
    "    book_id\n",
    "```\n",
    "  \n",
    "\n",
    "\n"
   ]
  },
  {
   "cell_type": "markdown",
   "metadata": {},
   "source": [
    "### 1107. New Users Daily Count(Median)\n"
   ]
  },
  {
   "cell_type": "markdown",
   "metadata": {},
   "source": [
    "\n",
    "Table: Traffic\n",
    "```\n",
    "+---------------+---------+\n",
    "| Column Name   | Type    |\n",
    "+---------------+---------+\n",
    "| user_id       | int     |\n",
    "| activity      | enum    |\n",
    "| activity_date | date    |\n",
    "+---------------+---------+\n",
    "```\n",
    "There is no primary key for this table, it may have duplicate rows.\n",
    "The activity column is an ENUM type of ('login', 'logout', 'jobs', 'groups', 'homepage').\n",
    " \n",
    "\n",
    "Write an SQL query to reports for every date within at most 90 days from today, the number of users that logged in for the first time on that date. Assume today is 2019-06-30.\n",
    "\n",
    "Return the result table in any order.\n",
    "\n",
    "The query result format is in the following example.\n",
    "\n",
    " \n",
    "\n",
    "Example 1:\n",
    "\n",
    "Input: \n",
    "Traffic table:\n",
    "```\n",
    "+---------+----------+---------------+\n",
    "| user_id | activity | activity_date |\n",
    "+---------+----------+---------------+\n",
    "| 1       | login    | 2019-05-01    |\n",
    "| 1       | homepage | 2019-05-01    |\n",
    "| 1       | logout   | 2019-05-01    |\n",
    "| 2       | login    | 2019-06-21    |\n",
    "| 2       | logout   | 2019-06-21    |\n",
    "| 3       | login    | 2019-01-01    |\n",
    "| 3       | jobs     | 2019-01-01    |\n",
    "| 3       | logout   | 2019-01-01    |\n",
    "| 4       | login    | 2019-06-21    |\n",
    "| 4       | groups   | 2019-06-21    |\n",
    "| 4       | logout   | 2019-06-21    |\n",
    "| 5       | login    | 2019-03-01    |\n",
    "| 5       | logout   | 2019-03-01    |\n",
    "| 5       | login    | 2019-06-21    |\n",
    "| 5       | logout   | 2019-06-21    |\n",
    "+---------+----------+---------------+\n",
    "```\n",
    "Output: \n",
    "```\n",
    "+------------+-------------+\n",
    "| login_date | user_count  |\n",
    "+------------+-------------+\n",
    "| 2019-05-01 | 1           |\n",
    "| 2019-06-21 | 2           |\n",
    "+------------+-------------+\n",
    "```\n",
    "Explanation: \n",
    "Note that we only care about dates with non zero user count.\n",
    "The user with id 5 first logged in on 2019-03-01 so he's not counted on 2019-06-21.\n"
   ]
  },
  {
   "cell_type": "markdown",
   "metadata": {},
   "source": [
    "```\n",
    "    select\n",
    "    activity_date as login_date, count(distinct(user_id)) as user_count\n",
    "    from\n",
    "    (\n",
    "        select\n",
    "        *\n",
    "        , min(activity_date) over(partition by user_id) as min_activity_date\n",
    "        from\n",
    "        Traffic t\n",
    "        where \n",
    "        activity = \"login\" \n",
    "    ) tmp\n",
    "    where min_activity_date = activity_date\n",
    "    group by \n",
    "    activity_date\n",
    "    having \n",
    "    datediff(activity_date, '2019-06-30') >= -90\n",
    "```"
   ]
  },
  {
   "cell_type": "markdown",
   "metadata": {},
   "source": [
    "### 1112. Highest Grade For Each Student(Median)"
   ]
  },
  {
   "cell_type": "markdown",
   "metadata": {},
   "source": [
    "Table: Enrollments\n",
    "```\n",
    "+---------------+---------+\n",
    "| Column Name   | Type    |\n",
    "+---------------+---------+\n",
    "| student_id    | int     |\n",
    "| course_id     | int     |\n",
    "| grade         | int     |\n",
    "+---------------+---------+\n",
    "(student_id, course_id) is the primary key of this table.\n",
    "``` \n",
    "\n",
    "Write a SQL query to find the highest grade with its corresponding course for each student. In case of a tie, you should find the course with the smallest course_id.\n",
    "\n",
    "Return the result table ordered by student_id in ascending order.\n",
    "\n",
    "The query result format is in the following example.\n"
   ]
  },
  {
   "cell_type": "markdown",
   "metadata": {},
   "source": [
    "```\n",
    "select student_id, min(course_id) as course_id, grade\n",
    "from\n",
    "(\n",
    "    select \n",
    "        *, max(grade) over(partition by student_id) as max_score \n",
    "    from \n",
    "        Enrollments \n",
    ") tmp\n",
    "where \n",
    "  tmp.grade = tmp.max_score\n",
    "group by\n",
    "  student_id, grade\n",
    "```\n"
   ]
  },
  {
   "cell_type": "markdown",
   "metadata": {},
   "source": [
    "### 1126. Active Businesses(Median)"
   ]
  },
  {
   "cell_type": "markdown",
   "metadata": {},
   "source": [
    "Table: Events\n",
    "```\n",
    "+---------------+---------+\n",
    "| Column Name   | Type    |\n",
    "+---------------+---------+\n",
    "| business_id   | int     |\n",
    "| event_type    | varchar |\n",
    "| occurences    | int     | \n",
    "+---------------+---------+\n",
    "```\n",
    "(business_id, event_type) is the primary key of this table.\n",
    "Each row in the table logs the info that an event of some type occurred at some business for a number of times.\n",
    " \n",
    "\n",
    "The average activity for a particular event_type is the average occurences across all companies that have this event.\n",
    "\n",
    "An active business is a business that has more than one event_type such that their occurences is strictly greater than the average activity for that event.\n",
    "\n",
    "Write an SQL query to find all active businesses.\n",
    "\n",
    "Return the result table in any order.\n",
    "\n",
    "The query result format is in the following example."
   ]
  },
  {
   "cell_type": "markdown",
   "metadata": {},
   "source": [
    "```\n",
    "select\n",
    "  business_id\n",
    "from\n",
    "(\n",
    "    select\n",
    "        *,\n",
    "        avg(occurences) over(partition by event_type)  as avg_occur\n",
    "    from \n",
    "        Events\n",
    ")t1\n",
    "where\n",
    "  t1.occurences > t1.avg_occur\n",
    "group by \n",
    "  business_id\n",
    "having count(business_id) > 1\n",
    "\n",
    "```"
   ]
  },
  {
   "cell_type": "markdown",
   "metadata": {},
   "source": []
  }
 ],
 "metadata": {
  "interpreter": {
   "hash": "31f2aee4e71d21fbe5cf8b01ff0e069b9275f58929596ceb00d14d90e3e16cd6"
  },
  "kernelspec": {
   "display_name": "Python 3.8.2 64-bit",
   "language": "python",
   "name": "python3"
  },
  "language_info": {
   "name": "python",
   "version": "3.8.2"
  },
  "orig_nbformat": 4
 },
 "nbformat": 4,
 "nbformat_minor": 2
}
