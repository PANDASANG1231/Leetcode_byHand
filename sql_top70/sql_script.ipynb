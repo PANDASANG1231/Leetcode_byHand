{
 "cells": [
  {
   "cell_type": "markdown",
   "metadata": {},
   "source": [
    "### 614. Second Degree Follower(Median)"
   ]
  },
  {
   "cell_type": "markdown",
   "metadata": {},
   "source": [
    "Table: Follow\n",
    "```\n",
    "+-------------+---------+\n",
    "| Column Name | Type    |\n",
    "+-------------+---------+\n",
    "| followee    | varchar |\n",
    "| follower    | varchar |\n",
    "+-------------+---------+\n",
    "```\n",
    "(followee, follower) is the primary key column for this table.\n",
    "Each row of this table indicates that the user follower follows the user followee on a social network.\n",
    "There will not be a user following themself.\n",
    " \n",
    "\n",
    "A second-degree follower is a user who:\n",
    "\n",
    "follows at least one user, and\n",
    "is followed by at least one user.\n",
    "Write an SQL query to report the second-degree users and the number of their followers.\n",
    "\n",
    "Return the result table ordered by follower in alphabetical order.\n",
    "\n",
    "The query result format is in the following example.\n",
    "\n",
    " \n",
    "\n",
    "Example 1:\n",
    "\n",
    "Input: \n",
    "Follow table:\n",
    "```\n",
    "+----------+----------+\n",
    "| followee | follower |\n",
    "+----------+----------+\n",
    "| Alice    | Bob      |\n",
    "| Bob      | Cena     |\n",
    "| Bob      | Donald   |\n",
    "| Donald   | Edward   |\n",
    "+----------+----------+\n",
    "```\n",
    "Output: \n",
    "```\n",
    "+----------+-----+\n",
    "| follower | num |\n",
    "+----------+-----+\n",
    "| Bob      | 2   |\n",
    "| Donald   | 1   |\n",
    "+----------+-----+\n",
    "```\n",
    "Explanation: \n",
    "User Bob has 2 followers. Bob is a second-degree follower because he follows Alice, so we include him in the result table.\n",
    "User Donald has 1 follower. Donald is a second-degree follower because he follows Bob, so we include him in the result table.\n",
    "User Alice has 1 follower. Alice is not a second-degree follower because she does not follow anyone, so we don not include her in the result table.\n",
    "\n",
    "来源：力扣（LeetCode）\n",
    "链接：https://leetcode-cn.com/problems/second-degree-follower\n",
    "著作权归领扣网络所有。商业转载请联系官方授权，非商业转载请注明出处。"
   ]
  },
  {
   "cell_type": "markdown",
   "metadata": {},
   "source": [
    "**Solution**\n",
    "\n",
    "```\n",
    "    select\n",
    "        followee as follower, count(1) as num\n",
    "    from\n",
    "        Follow \n",
    "    where\n",
    "        followee in (select follower from Follow)\n",
    "    group by followee\n",
    "    order by followee\n",
    "```"
   ]
  },
  {
   "cell_type": "markdown",
   "metadata": {},
   "source": [
    "### 615. Average Salary: Departments VS Company(Hard)"
   ]
  },
  {
   "cell_type": "markdown",
   "metadata": {},
   "source": [
    "Table: Salary\n",
    "```\n",
    "+-------------+------+\n",
    "| Column Name | Type |\n",
    "+-------------+------+\n",
    "| id          | int  |\n",
    "| employee_id | int  |\n",
    "| amount      | int  |\n",
    "| pay_date    | date |\n",
    "+-------------+------+\n",
    "```\n",
    "id is the primary key column for this table.\n",
    "Each row of this table indicates the salary of an employee in one month.\n",
    "employee_id is a foreign key from the Employee table.\n",
    " \n",
    "\n",
    "Table: Employee\n",
    "```\n",
    "+---------------+------+\n",
    "| Column Name   | Type |\n",
    "+---------------+------+\n",
    "| employee_id   | int  |\n",
    "| department_id | int  |\n",
    "+---------------+------+\n",
    "```\n",
    "employee_id is the primary key column for this table.\n",
    "Each row of this table indicates the department of an employee.\n",
    " \n",
    "\n",
    "Write an SQL query to report the comparison result (higher/lower/same) of the average salary of employees in a department to the company's average salary.\n",
    "\n",
    "Return the result table in any order.\n",
    "\n",
    "The query result format is in the following example.\n"
   ]
  },
  {
   "cell_type": "markdown",
   "metadata": {},
   "source": [
    "**Solution**\n",
    "\n",
    "```\n",
    "    select \n",
    "        SUBSTR(pay_date, 1, 7) as pay_month\n",
    "        , department_id\n",
    "        , case when avg_sum_depy>avg_sum then 'higher' \n",
    "            when avg_sum_depy=avg_sum then 'same'\n",
    "            else 'lower' end as comparison\n",
    "    from\n",
    "    (\n",
    "        select \n",
    "            a.pay_date\n",
    "            , b.department_id\n",
    "            , avg(a.amount) over (partition by a.pay_date) as avg_sum\n",
    "            , avg(a.amount) over (partition by a.pay_date, b.department_id) as avg_sum_depy\n",
    "        from \n",
    "            Salary a\n",
    "        join\n",
    "            Employee b\n",
    "        on \n",
    "            a.employee_id = b.employee_id\n",
    "    ) f\n",
    "    group by pay_month, department_id, comparison\n",
    "    order by pay_month DESC\n",
    "```"
   ]
  },
  {
   "cell_type": "markdown",
   "metadata": {},
   "source": []
  }
 ],
 "metadata": {
  "interpreter": {
   "hash": "31f2aee4e71d21fbe5cf8b01ff0e069b9275f58929596ceb00d14d90e3e16cd6"
  },
  "kernelspec": {
   "display_name": "Python 3.8.2 64-bit",
   "language": "python",
   "name": "python3"
  },
  "language_info": {
   "name": "python",
   "version": "3.8.2"
  },
  "orig_nbformat": 4
 },
 "nbformat": 4,
 "nbformat_minor": 2
}
